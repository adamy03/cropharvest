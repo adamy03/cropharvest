{
 "cells": [
  {
   "cell_type": "code",
   "execution_count": 1,
   "metadata": {},
   "outputs": [],
   "source": [
    "import cropvalidation \n",
    "import os\n",
    "import numpy as np"
   ]
  },
  {
   "cell_type": "markdown",
   "metadata": {},
   "source": [
    "### TOGO \n"
   ]
  },
  {
   "cell_type": "markdown",
   "metadata": {},
   "source": [
    "Load data"
   ]
  },
  {
   "cell_type": "markdown",
   "metadata": {},
   "source": [
    "load in togo data as cropmasks"
   ]
  },
  {
   "cell_type": "code",
   "execution_count": 2,
   "metadata": {},
   "outputs": [],
   "source": [
    "togo_data = []\n",
    "dir = 'data/TogoBinaryMaps'\n",
    "for tif in os.listdir(dir):\n",
    "    f = os.path.join(dir, tif)\n",
    "    if f == \"data/TogoBinaryMaps\\AgreementMap_Togo_Binary.tif\":\n",
    "\n",
    "        continue\n",
    "    togo_data.append(cropvalidation.CropMask(f))\n",
    "\n",
    "togo_labels = [togo_data[x].getName().split(\"\\\\\")[-1][:-11] for x in np.arange(len(togo_data))]\n",
    "\n",
    "TOGO_BINARY = dict(zip(togo_labels, togo_data))\n",
    "TOGO_BINARY.get('ASAP_TOGO')"
   ]
  },
  {
   "cell_type": "markdown",
   "metadata": {},
   "source": [
    "Validation Set"
   ]
  },
  {
   "cell_type": "code",
   "execution_count": 6,
   "metadata": {},
   "outputs": [
    {
     "name": "stdout",
     "output_type": "stream",
     "text": [
      "epsg:32631\n"
     ]
    }
   ],
   "source": [
    "TOGO_VALIDATION = cropvalidation.ValidationSet(path = 'data/HarvestData/togo_reprojected.csv', projection = 'epsg:32631')\n",
    "print(TOGO_VALIDATION.getData().crs)"
   ]
  },
  {
   "cell_type": "code",
   "execution_count": 4,
   "metadata": {},
   "outputs": [
    {
     "ename": "AttributeError",
     "evalue": "'DataFrame' object has no attribute 'crs'",
     "output_type": "error",
     "traceback": [
      "\u001b[1;31m---------------------------------------------------------------------------\u001b[0m",
      "\u001b[1;31mAttributeError\u001b[0m                            Traceback (most recent call last)",
      "\u001b[1;32mc:\\Users\\adamf\\Cropharvest\\togo_kenya_validation.ipynb Cell 8'\u001b[0m in \u001b[0;36m<module>\u001b[1;34m\u001b[0m\n\u001b[0;32m      <a href='vscode-notebook-cell:/c%3A/Users/adamf/Cropharvest/togo_kenya_validation.ipynb#ch0000006?line=0'>1</a>\u001b[0m TOGO_VALIDATION \u001b[39m=\u001b[39m cropvalidation\u001b[39m.\u001b[39mValidationSet(path \u001b[39m=\u001b[39m \u001b[39m'\u001b[39m\u001b[39mdata/HarvestData/togo_reprojected.csv\u001b[39m\u001b[39m'\u001b[39m, projection \u001b[39m=\u001b[39m \u001b[39m'\u001b[39m\u001b[39mepsg:32631\u001b[39m\u001b[39m'\u001b[39m)\n\u001b[0;32m      <a href='vscode-notebook-cell:/c%3A/Users/adamf/Cropharvest/togo_kenya_validation.ipynb#ch0000006?line=1'>2</a>\u001b[0m TOGO_VALIDATION\u001b[39m.\u001b[39mvalidation \u001b[39m=\u001b[39m TOGO_VALIDATION\u001b[39m.\u001b[39mvalidation[[\u001b[39m'\u001b[39m\u001b[39mlat\u001b[39m\u001b[39m'\u001b[39m, \u001b[39m'\u001b[39m\u001b[39mlon\u001b[39m\u001b[39m'\u001b[39m, \u001b[39m'\u001b[39m\u001b[39mcrop_probability\u001b[39m\u001b[39m'\u001b[39m]]\n\u001b[1;32m----> <a href='vscode-notebook-cell:/c%3A/Users/adamf/Cropharvest/togo_kenya_validation.ipynb#ch0000006?line=2'>3</a>\u001b[0m TOGO_VALIDATION\u001b[39m.\u001b[39;49mgetProjection()\n",
      "File \u001b[1;32mc:\\Users\\adamf\\Cropharvest\\cropvalidation.py:30\u001b[0m, in \u001b[0;36mValidationSet.getProjection\u001b[1;34m(self)\u001b[0m\n\u001b[0;32m     <a href='file:///c%3A/Users/adamf/Cropharvest/cropvalidation.py?line=28'>29</a>\u001b[0m \u001b[39mdef\u001b[39;00m \u001b[39mgetProjection\u001b[39m(\u001b[39mself\u001b[39m):\n\u001b[1;32m---> <a href='file:///c%3A/Users/adamf/Cropharvest/cropvalidation.py?line=29'>30</a>\u001b[0m     \u001b[39mreturn\u001b[39;00m \u001b[39mself\u001b[39;49m\u001b[39m.\u001b[39;49mgetData()\u001b[39m.\u001b[39;49mcrs\n",
      "File \u001b[1;32m~\\anaconda3\\envs\\CropHarvest\\lib\\site-packages\\pandas\\core\\generic.py:5583\u001b[0m, in \u001b[0;36mNDFrame.__getattr__\u001b[1;34m(self, name)\u001b[0m\n\u001b[0;32m   <a href='file:///~/anaconda3/envs/CropHarvest/lib/site-packages/pandas/core/generic.py?line=5575'>5576</a>\u001b[0m \u001b[39mif\u001b[39;00m (\n\u001b[0;32m   <a href='file:///~/anaconda3/envs/CropHarvest/lib/site-packages/pandas/core/generic.py?line=5576'>5577</a>\u001b[0m     name \u001b[39mnot\u001b[39;00m \u001b[39min\u001b[39;00m \u001b[39mself\u001b[39m\u001b[39m.\u001b[39m_internal_names_set\n\u001b[0;32m   <a href='file:///~/anaconda3/envs/CropHarvest/lib/site-packages/pandas/core/generic.py?line=5577'>5578</a>\u001b[0m     \u001b[39mand\u001b[39;00m name \u001b[39mnot\u001b[39;00m \u001b[39min\u001b[39;00m \u001b[39mself\u001b[39m\u001b[39m.\u001b[39m_metadata\n\u001b[0;32m   <a href='file:///~/anaconda3/envs/CropHarvest/lib/site-packages/pandas/core/generic.py?line=5578'>5579</a>\u001b[0m     \u001b[39mand\u001b[39;00m name \u001b[39mnot\u001b[39;00m \u001b[39min\u001b[39;00m \u001b[39mself\u001b[39m\u001b[39m.\u001b[39m_accessors\n\u001b[0;32m   <a href='file:///~/anaconda3/envs/CropHarvest/lib/site-packages/pandas/core/generic.py?line=5579'>5580</a>\u001b[0m     \u001b[39mand\u001b[39;00m \u001b[39mself\u001b[39m\u001b[39m.\u001b[39m_info_axis\u001b[39m.\u001b[39m_can_hold_identifiers_and_holds_name(name)\n\u001b[0;32m   <a href='file:///~/anaconda3/envs/CropHarvest/lib/site-packages/pandas/core/generic.py?line=5580'>5581</a>\u001b[0m ):\n\u001b[0;32m   <a href='file:///~/anaconda3/envs/CropHarvest/lib/site-packages/pandas/core/generic.py?line=5581'>5582</a>\u001b[0m     \u001b[39mreturn\u001b[39;00m \u001b[39mself\u001b[39m[name]\n\u001b[1;32m-> <a href='file:///~/anaconda3/envs/CropHarvest/lib/site-packages/pandas/core/generic.py?line=5582'>5583</a>\u001b[0m \u001b[39mreturn\u001b[39;00m \u001b[39mobject\u001b[39;49m\u001b[39m.\u001b[39;49m\u001b[39m__getattribute__\u001b[39;49m(\u001b[39mself\u001b[39;49m, name)\n",
      "\u001b[1;31mAttributeError\u001b[0m: 'DataFrame' object has no attribute 'crs'"
     ]
    }
   ],
   "source": [
    "TOGO_VALIDATION = cropvalidation.ValidationSet(path = 'data/HarvestData/togo_reprojected.csv', projection = 'epsg:32631')\n",
    "TOGO_VALIDATION.validation = TOGO_VALIDATION.validation[['lat', 'lon', 'crop_probability']]\n",
    "TOGO_VALIDATION.getProjection()"
   ]
  },
  {
   "cell_type": "code",
   "execution_count": null,
   "metadata": {},
   "outputs": [
    {
     "ename": "AttributeError",
     "evalue": "'DataFrame' object has no attribute 'crs'",
     "output_type": "error",
     "traceback": [
      "\u001b[1;31m---------------------------------------------------------------------------\u001b[0m",
      "\u001b[1;31mAttributeError\u001b[0m                            Traceback (most recent call last)",
      "Input \u001b[1;32mIn [7]\u001b[0m, in \u001b[0;36m<module>\u001b[1;34m\u001b[0m\n\u001b[0;32m      1\u001b[0m \u001b[39mimport\u001b[39;00m \u001b[39mpandas\u001b[39;00m \u001b[39mas\u001b[39;00m \u001b[39mpd\u001b[39;00m\n\u001b[0;32m      2\u001b[0m cropmask \u001b[39m=\u001b[39m togo_data[\u001b[39m0\u001b[39m]\n\u001b[1;32m----> 3\u001b[0m \u001b[39mprint\u001b[39m(TOGO_VALIDATION\u001b[39m.\u001b[39;49mgetProjection())\n",
      "File \u001b[1;32mc:\\Users\\adamf\\Cropharvest\\cropvalidation.py:29\u001b[0m, in \u001b[0;36mValidationSet.getProjection\u001b[1;34m(self)\u001b[0m\n\u001b[0;32m     <a href='file:///c%3A/Users/adamf/Cropharvest/cropvalidation.py?line=27'>28</a>\u001b[0m \u001b[39mdef\u001b[39;00m \u001b[39mgetProjection\u001b[39m(\u001b[39mself\u001b[39m) \u001b[39m-\u001b[39m\u001b[39m>\u001b[39m \u001b[39mstr\u001b[39m:\n\u001b[1;32m---> <a href='file:///c%3A/Users/adamf/Cropharvest/cropvalidation.py?line=28'>29</a>\u001b[0m     \u001b[39mreturn\u001b[39;00m \u001b[39mself\u001b[39;49m\u001b[39m.\u001b[39;49mvalidation\u001b[39m.\u001b[39;49mcrs\n",
      "File \u001b[1;32m~\\anaconda3\\envs\\CropHarvest\\lib\\site-packages\\pandas\\core\\generic.py:5583\u001b[0m, in \u001b[0;36mNDFrame.__getattr__\u001b[1;34m(self, name)\u001b[0m\n\u001b[0;32m   <a href='file:///~/anaconda3/envs/CropHarvest/lib/site-packages/pandas/core/generic.py?line=5575'>5576</a>\u001b[0m \u001b[39mif\u001b[39;00m (\n\u001b[0;32m   <a href='file:///~/anaconda3/envs/CropHarvest/lib/site-packages/pandas/core/generic.py?line=5576'>5577</a>\u001b[0m     name \u001b[39mnot\u001b[39;00m \u001b[39min\u001b[39;00m \u001b[39mself\u001b[39m\u001b[39m.\u001b[39m_internal_names_set\n\u001b[0;32m   <a href='file:///~/anaconda3/envs/CropHarvest/lib/site-packages/pandas/core/generic.py?line=5577'>5578</a>\u001b[0m     \u001b[39mand\u001b[39;00m name \u001b[39mnot\u001b[39;00m \u001b[39min\u001b[39;00m \u001b[39mself\u001b[39m\u001b[39m.\u001b[39m_metadata\n\u001b[0;32m   <a href='file:///~/anaconda3/envs/CropHarvest/lib/site-packages/pandas/core/generic.py?line=5578'>5579</a>\u001b[0m     \u001b[39mand\u001b[39;00m name \u001b[39mnot\u001b[39;00m \u001b[39min\u001b[39;00m \u001b[39mself\u001b[39m\u001b[39m.\u001b[39m_accessors\n\u001b[0;32m   <a href='file:///~/anaconda3/envs/CropHarvest/lib/site-packages/pandas/core/generic.py?line=5579'>5580</a>\u001b[0m     \u001b[39mand\u001b[39;00m \u001b[39mself\u001b[39m\u001b[39m.\u001b[39m_info_axis\u001b[39m.\u001b[39m_can_hold_identifiers_and_holds_name(name)\n\u001b[0;32m   <a href='file:///~/anaconda3/envs/CropHarvest/lib/site-packages/pandas/core/generic.py?line=5580'>5581</a>\u001b[0m ):\n\u001b[0;32m   <a href='file:///~/anaconda3/envs/CropHarvest/lib/site-packages/pandas/core/generic.py?line=5581'>5582</a>\u001b[0m     \u001b[39mreturn\u001b[39;00m \u001b[39mself\u001b[39m[name]\n\u001b[1;32m-> <a href='file:///~/anaconda3/envs/CropHarvest/lib/site-packages/pandas/core/generic.py?line=5582'>5583</a>\u001b[0m \u001b[39mreturn\u001b[39;00m \u001b[39mobject\u001b[39;49m\u001b[39m.\u001b[39;49m\u001b[39m__getattribute__\u001b[39;49m(\u001b[39mself\u001b[39;49m, name)\n",
      "\u001b[1;31mAttributeError\u001b[0m: 'DataFrame' object has no attribute 'crs'"
     ]
    }
   ],
   "source": [
    "import pandas as pd\n",
    "cropmask = togo_data[0]\n",
    "print(TOGO_VALIDATION.getProjection())\n"
   ]
  },
  {
   "cell_type": "code",
   "execution_count": 5,
   "metadata": {},
   "outputs": [
    {
     "ename": "TypeError",
     "evalue": "iteration over a 0-d array",
     "output_type": "error",
     "traceback": [
      "\u001b[1;31m---------------------------------------------------------------------------\u001b[0m",
      "\u001b[1;31mTypeError\u001b[0m                                 Traceback (most recent call last)",
      "\u001b[1;32mc:\\Users\\adamf\\Cropharvest\\togo_kenya_validation.ipynb Cell 8'\u001b[0m in \u001b[0;36m<module>\u001b[1;34m\u001b[0m\n\u001b[1;32m----> <a href='vscode-notebook-cell:/c%3A/Users/adamf/Cropharvest/togo_kenya_validation.ipynb#ch0000007?line=0'>1</a>\u001b[0m testPair \u001b[39m=\u001b[39m cropvalidation\u001b[39m.\u001b[39;49mMatchedSet(togo_data[\u001b[39m0\u001b[39;49m], TOGO_VALIDATION)\n",
      "File \u001b[1;32mc:\\Users\\adamf\\Cropharvest\\cropvalidation.py:81\u001b[0m, in \u001b[0;36mMatchedSet.__init__\u001b[1;34m(self, cropmask, validation_data)\u001b[0m\n\u001b[0;32m     <a href='file:///c%3A/Users/adamf/Cropharvest/cropvalidation.py?line=78'>79</a>\u001b[0m \u001b[39mself\u001b[39m\u001b[39m.\u001b[39mvalidation_data \u001b[39m=\u001b[39m validation_data\n\u001b[0;32m     <a href='file:///c%3A/Users/adamf/Cropharvest/cropvalidation.py?line=79'>80</a>\u001b[0m \u001b[39mself\u001b[39m\u001b[39m.\u001b[39mcropmask \u001b[39m=\u001b[39m cropmask\n\u001b[1;32m---> <a href='file:///c%3A/Users/adamf/Cropharvest/cropvalidation.py?line=80'>81</a>\u001b[0m \u001b[39mself\u001b[39m\u001b[39m.\u001b[39mdata \u001b[39m=\u001b[39m pd\u001b[39m.\u001b[39mDataFrame(data\u001b[39m=\u001b[39m \u001b[39mzip\u001b[39;49m(validation_data\u001b[39m.\u001b[39;49mgetData(), cropmask\u001b[39m.\u001b[39;49msample_points(validation_data\u001b[39m.\u001b[39;49mgetLat(), validation_data\u001b[39m.\u001b[39;49mgetLon())),\n\u001b[0;32m     <a href='file:///c%3A/Users/adamf/Cropharvest/cropvalidation.py?line=81'>82</a>\u001b[0m columns\u001b[39m=\u001b[39m[\u001b[39m'\u001b[39m\u001b[39mlat\u001b[39m\u001b[39m'\u001b[39m, \u001b[39m'\u001b[39m\u001b[39mlon\u001b[39m\u001b[39m'\u001b[39m, \u001b[39m'\u001b[39m\u001b[39mvalidation\u001b[39m\u001b[39m'\u001b[39m, \u001b[39m'\u001b[39m\u001b[39mpredicted\u001b[39m\u001b[39m'\u001b[39m])\n",
      "\u001b[1;31mTypeError\u001b[0m: iteration over a 0-d array"
     ]
    }
   ],
   "source": [
    "testPair = cropvalidation.MatchedSet(togo_data[0], TOGO_VALIDATION)"
   ]
  },
  {
   "cell_type": "markdown",
   "metadata": {},
   "source": [
    "Extract sampled data to dataframe > create separate frames that hold individual position locations that are NOT filler data > "
   ]
  },
  {
   "cell_type": "markdown",
   "metadata": {},
   "source": [
    "KENYA DATA"
   ]
  },
  {
   "cell_type": "code",
   "execution_count": 1,
   "metadata": {},
   "outputs": [
    {
     "ename": "NameError",
     "evalue": "name 'cropvalidation' is not defined",
     "output_type": "error",
     "traceback": [
      "\u001b[1;31m---------------------------------------------------------------------------\u001b[0m",
      "\u001b[1;31mNameError\u001b[0m                                 Traceback (most recent call last)",
      "\u001b[1;32mc:\\Users\\adamf\\Cropharvest\\togo_kenya_validation.ipynb Cell 11'\u001b[0m in \u001b[0;36m<module>\u001b[1;34m\u001b[0m\n\u001b[0;32m      <a href='vscode-notebook-cell:/c%3A/Users/adamf/Cropharvest/togo_kenya_validation.ipynb#ch0000010?line=4'>5</a>\u001b[0m     \u001b[39mif\u001b[39;00m f \u001b[39m==\u001b[39m \u001b[39m\"\u001b[39m\u001b[39mdata/KenyaBinaryMaps\u001b[39m\u001b[39m\\\u001b[39m\u001b[39mAgreement_Kenya_Binary.tif\u001b[39m\u001b[39m\"\u001b[39m:\n\u001b[0;32m      <a href='vscode-notebook-cell:/c%3A/Users/adamf/Cropharvest/togo_kenya_validation.ipynb#ch0000010?line=5'>6</a>\u001b[0m         \u001b[39mcontinue\u001b[39;00m\n\u001b[1;32m----> <a href='vscode-notebook-cell:/c%3A/Users/adamf/Cropharvest/togo_kenya_validation.ipynb#ch0000010?line=6'>7</a>\u001b[0m     kenya_data\u001b[39m.\u001b[39mappend(cropvalidation\u001b[39m.\u001b[39mCropMask(f))\n\u001b[0;32m      <a href='vscode-notebook-cell:/c%3A/Users/adamf/Cropharvest/togo_kenya_validation.ipynb#ch0000010?line=8'>9</a>\u001b[0m kenya_labels \u001b[39m=\u001b[39m [kenya_data[x]\u001b[39m.\u001b[39mgetName()\u001b[39m.\u001b[39msplit(\u001b[39m\"\u001b[39m\u001b[39m\\\\\u001b[39;00m\u001b[39m\"\u001b[39m)[\u001b[39m-\u001b[39m\u001b[39m1\u001b[39m][:\u001b[39m-\u001b[39m\u001b[39m11\u001b[39m] \u001b[39mfor\u001b[39;00m x \u001b[39min\u001b[39;00m np\u001b[39m.\u001b[39marange(\u001b[39mlen\u001b[39m(kenya_data))]\n\u001b[0;32m     <a href='vscode-notebook-cell:/c%3A/Users/adamf/Cropharvest/togo_kenya_validation.ipynb#ch0000010?line=10'>11</a>\u001b[0m KENYA_BINARY \u001b[39m=\u001b[39m np\u001b[39m.\u001b[39marray((kenya_labels, togo_data))\n",
      "\u001b[1;31mNameError\u001b[0m: name 'cropvalidation' is not defined"
     ]
    }
   ],
   "source": [
    "kenya_data = []\n",
    "dir = 'data/KenyaBinaryMaps'\n",
    "for tif in os.listdir(dir):\n",
    "    f = os.path.join(dir, tif)\n",
    "    if f == \"data/KenyaBinaryMaps\\Agreement_Kenya_Binary.tif\":\n",
    "        continue\n",
    "    kenya_data.append(cropvalidation.CropMask(f))\n",
    "\n",
    "kenya_labels = [kenya_data[x].getName().split(\"\\\\\")[-1][:-11] for x in np.arange(len(kenya_data))]\n",
    "\n",
    "KENYA_BINARY = np.array((kenya_labels, togo_data))\n",
    "\n",
    "KENYA_BINARY"
   ]
  },
  {
   "cell_type": "code",
   "execution_count": null,
   "metadata": {},
   "outputs": [],
   "source": []
  },
  {
   "cell_type": "code",
   "execution_count": null,
   "metadata": {},
   "outputs": [],
   "source": []
  }
 ],
 "metadata": {
  "interpreter": {
   "hash": "62225c3c0f49fb74a5fd5f292b42dc4d4c6a964776233fc1d495a766b7264e91"
  },
  "kernelspec": {
   "display_name": "Python 3.8.0 64-bit ('CropHarvest': conda)",
   "language": "python",
   "name": "python3"
  },
  "language_info": {
   "codemirror_mode": {
    "name": "ipython",
    "version": 3
   },
   "file_extension": ".py",
   "mimetype": "text/x-python",
   "name": "python",
   "nbconvert_exporter": "python",
   "pygments_lexer": "ipython3",
   "version": "3.8.0"
  },
  "orig_nbformat": 4
 },
 "nbformat": 4,
 "nbformat_minor": 2
}
