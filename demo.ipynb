{
 "cells": [
  {
   "cell_type": "code",
   "execution_count": 1,
   "metadata": {},
   "outputs": [],
   "source": [
    "import cropvalidation \n",
    "import os\n",
    "import numpy as np\n",
    "import pandas as pd"
   ]
  },
  {
   "cell_type": "markdown",
   "metadata": {},
   "source": [
    "### TOGO \n"
   ]
  },
  {
   "cell_type": "markdown",
   "metadata": {},
   "source": [
    "Load data"
   ]
  },
  {
   "cell_type": "markdown",
   "metadata": {},
   "source": [
    "load in togo data as cropmasks"
   ]
  },
  {
   "cell_type": "code",
   "execution_count": 2,
   "metadata": {},
   "outputs": [],
   "source": [
    "togo_data = []\n",
    "dir = 'data/TogoBinaryMaps'\n",
    "for tif in os.listdir(dir):\n",
    "    f = os.path.join(dir, tif)\n",
    "    if f == \"data/TogoBinaryMaps\\AgreementMap_Togo_Binary.tif\":\n",
    "        continue\n",
    "    togo_data.append(cropvalidation.CropMask(f))\n",
    "\n",
    "togo_labels = [togo_data[x].getName().split(\"\\\\\")[-1][:-11] for x in np.arange(len(togo_data))]\n",
    "\n",
    "TOGO_BINARY = dict(zip(togo_labels, togo_data))\n"
   ]
  },
  {
   "cell_type": "markdown",
   "metadata": {},
   "source": [
    "Matched Sets"
   ]
  },
  {
   "cell_type": "code",
   "execution_count": 3,
   "metadata": {},
   "outputs": [],
   "source": [
    "# TOGO_VALIDATION = cropvalidation.ValidationSet(path = 'data/HarvestData/togo_reprojected.csv', projection='epsg:32631')\n",
    "TOGO_VALIDATION = cropvalidation.ValidationSet(path = 'data/HarvestData/togo.csv', projection='epsg:4326')\n",
    "TOGO_VALIDATION.validation = TOGO_VALIDATION.validation[TOGO_VALIDATION.validation['subset'] == 'testing']\n",
    "TOGO_VALIDATION.validation = TOGO_VALIDATION.validation[['lat', 'lon', 'crop_probability']]\n",
    "\n",
    "TOGO_VALIDATION.validation.crop_probability = TOGO_VALIDATION.validation.crop_probability.astype(float)\n",
    "\n",
    "TOGO_VALIDATION.filter()\n",
    "TOGO_VALIDATION.reproject_validation(outProjection='epsg:32631')\n"
   ]
  },
  {
   "cell_type": "code",
   "execution_count": 4,
   "metadata": {},
   "outputs": [
    {
     "data": {
      "text/html": [
       "<div>\n",
       "<style scoped>\n",
       "    .dataframe tbody tr th:only-of-type {\n",
       "        vertical-align: middle;\n",
       "    }\n",
       "\n",
       "    .dataframe tbody tr th {\n",
       "        vertical-align: top;\n",
       "    }\n",
       "\n",
       "    .dataframe thead th {\n",
       "        text-align: right;\n",
       "    }\n",
       "</style>\n",
       "<table border=\"1\" class=\"dataframe\">\n",
       "  <thead>\n",
       "    <tr style=\"text-align: right;\">\n",
       "      <th></th>\n",
       "      <th>lat</th>\n",
       "      <th>lon</th>\n",
       "      <th>crop_probability</th>\n",
       "    </tr>\n",
       "  </thead>\n",
       "  <tbody>\n",
       "    <tr>\n",
       "      <th>77</th>\n",
       "      <td>170560.155817</td>\n",
       "      <td>1.188884e+06</td>\n",
       "      <td>1.0</td>\n",
       "    </tr>\n",
       "    <tr>\n",
       "      <th>116</th>\n",
       "      <td>172692.923816</td>\n",
       "      <td>1.193288e+06</td>\n",
       "      <td>0.0</td>\n",
       "    </tr>\n",
       "    <tr>\n",
       "      <th>140</th>\n",
       "      <td>177454.027895</td>\n",
       "      <td>1.221734e+06</td>\n",
       "      <td>1.0</td>\n",
       "    </tr>\n",
       "    <tr>\n",
       "      <th>145</th>\n",
       "      <td>181613.837353</td>\n",
       "      <td>1.171039e+06</td>\n",
       "      <td>1.0</td>\n",
       "    </tr>\n",
       "    <tr>\n",
       "      <th>218</th>\n",
       "      <td>194962.643680</td>\n",
       "      <td>1.214083e+06</td>\n",
       "      <td>1.0</td>\n",
       "    </tr>\n",
       "    <tr>\n",
       "      <th>...</th>\n",
       "      <td>...</td>\n",
       "      <td>...</td>\n",
       "      <td>...</td>\n",
       "    </tr>\n",
       "    <tr>\n",
       "      <th>1522</th>\n",
       "      <td>345720.588089</td>\n",
       "      <td>8.986492e+05</td>\n",
       "      <td>0.0</td>\n",
       "    </tr>\n",
       "    <tr>\n",
       "      <th>1523</th>\n",
       "      <td>345633.778487</td>\n",
       "      <td>8.548428e+05</td>\n",
       "      <td>1.0</td>\n",
       "    </tr>\n",
       "    <tr>\n",
       "      <th>1531</th>\n",
       "      <td>346580.577840</td>\n",
       "      <td>9.969522e+05</td>\n",
       "      <td>0.0</td>\n",
       "    </tr>\n",
       "    <tr>\n",
       "      <th>1544</th>\n",
       "      <td>346361.833763</td>\n",
       "      <td>7.019713e+05</td>\n",
       "      <td>1.0</td>\n",
       "    </tr>\n",
       "    <tr>\n",
       "      <th>1561</th>\n",
       "      <td>348127.594121</td>\n",
       "      <td>9.458717e+05</td>\n",
       "      <td>0.0</td>\n",
       "    </tr>\n",
       "  </tbody>\n",
       "</table>\n",
       "<p>185 rows × 3 columns</p>\n",
       "</div>"
      ],
      "text/plain": [
       "                lat           lon  crop_probability\n",
       "77    170560.155817  1.188884e+06               1.0\n",
       "116   172692.923816  1.193288e+06               0.0\n",
       "140   177454.027895  1.221734e+06               1.0\n",
       "145   181613.837353  1.171039e+06               1.0\n",
       "218   194962.643680  1.214083e+06               1.0\n",
       "...             ...           ...               ...\n",
       "1522  345720.588089  8.986492e+05               0.0\n",
       "1523  345633.778487  8.548428e+05               1.0\n",
       "1531  346580.577840  9.969522e+05               0.0\n",
       "1544  346361.833763  7.019713e+05               1.0\n",
       "1561  348127.594121  9.458717e+05               0.0\n",
       "\n",
       "[185 rows x 3 columns]"
      ]
     },
     "execution_count": 4,
     "metadata": {},
     "output_type": "execute_result"
    }
   ],
   "source": [
    "TOGO_VALIDATION.getData()"
   ]
  },
  {
   "cell_type": "code",
   "execution_count": 5,
   "metadata": {},
   "outputs": [],
   "source": [
    "TOGO_MATCHED = []\n",
    "for binarymap in np.arange(len(togo_data)):\n",
    "    TOGO_MATCHED.append(cropvalidation.MatchedSet(togo_data[binarymap], TOGO_VALIDATION))"
   ]
  },
  {
   "cell_type": "code",
   "execution_count": 6,
   "metadata": {},
   "outputs": [
    {
     "data": {
      "text/html": [
       "<div>\n",
       "<style scoped>\n",
       "    .dataframe tbody tr th:only-of-type {\n",
       "        vertical-align: middle;\n",
       "    }\n",
       "\n",
       "    .dataframe tbody tr th {\n",
       "        vertical-align: top;\n",
       "    }\n",
       "\n",
       "    .dataframe thead th {\n",
       "        text-align: right;\n",
       "    }\n",
       "</style>\n",
       "<table border=\"1\" class=\"dataframe\">\n",
       "  <thead>\n",
       "    <tr style=\"text-align: right;\">\n",
       "      <th></th>\n",
       "      <th>lat</th>\n",
       "      <th>lon</th>\n",
       "      <th>crop_probability</th>\n",
       "      <th>cropmask</th>\n",
       "    </tr>\n",
       "  </thead>\n",
       "  <tbody>\n",
       "    <tr>\n",
       "      <th>0</th>\n",
       "      <td>170560.155817</td>\n",
       "      <td>1.188884e+06</td>\n",
       "      <td>1.0</td>\n",
       "      <td>1.0</td>\n",
       "    </tr>\n",
       "    <tr>\n",
       "      <th>1</th>\n",
       "      <td>172692.923816</td>\n",
       "      <td>1.193288e+06</td>\n",
       "      <td>0.0</td>\n",
       "      <td>1.0</td>\n",
       "    </tr>\n",
       "    <tr>\n",
       "      <th>2</th>\n",
       "      <td>177454.027895</td>\n",
       "      <td>1.221734e+06</td>\n",
       "      <td>1.0</td>\n",
       "      <td>1.0</td>\n",
       "    </tr>\n",
       "    <tr>\n",
       "      <th>3</th>\n",
       "      <td>181613.837353</td>\n",
       "      <td>1.171039e+06</td>\n",
       "      <td>1.0</td>\n",
       "      <td>1.0</td>\n",
       "    </tr>\n",
       "    <tr>\n",
       "      <th>4</th>\n",
       "      <td>194962.643680</td>\n",
       "      <td>1.214083e+06</td>\n",
       "      <td>1.0</td>\n",
       "      <td>1.0</td>\n",
       "    </tr>\n",
       "    <tr>\n",
       "      <th>...</th>\n",
       "      <td>...</td>\n",
       "      <td>...</td>\n",
       "      <td>...</td>\n",
       "      <td>...</td>\n",
       "    </tr>\n",
       "    <tr>\n",
       "      <th>180</th>\n",
       "      <td>345720.588089</td>\n",
       "      <td>8.986492e+05</td>\n",
       "      <td>0.0</td>\n",
       "      <td>1.0</td>\n",
       "    </tr>\n",
       "    <tr>\n",
       "      <th>181</th>\n",
       "      <td>345633.778487</td>\n",
       "      <td>8.548428e+05</td>\n",
       "      <td>1.0</td>\n",
       "      <td>1.0</td>\n",
       "    </tr>\n",
       "    <tr>\n",
       "      <th>182</th>\n",
       "      <td>346580.577840</td>\n",
       "      <td>9.969522e+05</td>\n",
       "      <td>0.0</td>\n",
       "      <td>0.0</td>\n",
       "    </tr>\n",
       "    <tr>\n",
       "      <th>183</th>\n",
       "      <td>346361.833763</td>\n",
       "      <td>7.019713e+05</td>\n",
       "      <td>1.0</td>\n",
       "      <td>1.0</td>\n",
       "    </tr>\n",
       "    <tr>\n",
       "      <th>184</th>\n",
       "      <td>348127.594121</td>\n",
       "      <td>9.458717e+05</td>\n",
       "      <td>0.0</td>\n",
       "      <td>0.0</td>\n",
       "    </tr>\n",
       "  </tbody>\n",
       "</table>\n",
       "<p>185 rows × 4 columns</p>\n",
       "</div>"
      ],
      "text/plain": [
       "               lat           lon  crop_probability  cropmask\n",
       "0    170560.155817  1.188884e+06               1.0       1.0\n",
       "1    172692.923816  1.193288e+06               0.0       1.0\n",
       "2    177454.027895  1.221734e+06               1.0       1.0\n",
       "3    181613.837353  1.171039e+06               1.0       1.0\n",
       "4    194962.643680  1.214083e+06               1.0       1.0\n",
       "..             ...           ...               ...       ...\n",
       "180  345720.588089  8.986492e+05               0.0       1.0\n",
       "181  345633.778487  8.548428e+05               1.0       1.0\n",
       "182  346580.577840  9.969522e+05               0.0       0.0\n",
       "183  346361.833763  7.019713e+05               1.0       1.0\n",
       "184  348127.594121  9.458717e+05               0.0       0.0\n",
       "\n",
       "[185 rows x 4 columns]"
      ]
     },
     "execution_count": 6,
     "metadata": {},
     "output_type": "execute_result"
    }
   ],
   "source": [
    "TOGO_MATCHED[0].data"
   ]
  },
  {
   "cell_type": "code",
   "execution_count": 7,
   "metadata": {},
   "outputs": [
    {
     "data": {
      "text/html": [
       "<div>\n",
       "<style scoped>\n",
       "    .dataframe tbody tr th:only-of-type {\n",
       "        vertical-align: middle;\n",
       "    }\n",
       "\n",
       "    .dataframe tbody tr th {\n",
       "        vertical-align: top;\n",
       "    }\n",
       "\n",
       "    .dataframe thead th {\n",
       "        text-align: right;\n",
       "    }\n",
       "</style>\n",
       "<table border=\"1\" class=\"dataframe\">\n",
       "  <thead>\n",
       "    <tr style=\"text-align: right;\">\n",
       "      <th></th>\n",
       "      <th>0</th>\n",
       "      <th>1</th>\n",
       "    </tr>\n",
       "  </thead>\n",
       "  <tbody>\n",
       "    <tr>\n",
       "      <th>0</th>\n",
       "      <td>0.471910</td>\n",
       "      <td>ASAP_Togo</td>\n",
       "    </tr>\n",
       "    <tr>\n",
       "      <th>1</th>\n",
       "      <td>0.592593</td>\n",
       "      <td>CombinedMap_Togo</td>\n",
       "    </tr>\n",
       "    <tr>\n",
       "      <th>2</th>\n",
       "      <td>0.205882</td>\n",
       "      <td>Copernicus_Togo</td>\n",
       "    </tr>\n",
       "    <tr>\n",
       "      <th>3</th>\n",
       "      <td>0.634146</td>\n",
       "      <td>DigitalEarth_Togo</td>\n",
       "    </tr>\n",
       "    <tr>\n",
       "      <th>4</th>\n",
       "      <td>0.707317</td>\n",
       "      <td>ESA_Togo</td>\n",
       "    </tr>\n",
       "    <tr>\n",
       "      <th>5</th>\n",
       "      <td>0.107143</td>\n",
       "      <td>ESRI_Togo</td>\n",
       "    </tr>\n",
       "    <tr>\n",
       "      <th>6</th>\n",
       "      <td>0.615385</td>\n",
       "      <td>GFSAD_Togo</td>\n",
       "    </tr>\n",
       "    <tr>\n",
       "      <th>7</th>\n",
       "      <td>0.779661</td>\n",
       "      <td>Harvest_Togo</td>\n",
       "    </tr>\n",
       "  </tbody>\n",
       "</table>\n",
       "</div>"
      ],
      "text/plain": [
       "          0                  1\n",
       "0  0.471910          ASAP_Togo\n",
       "1  0.592593   CombinedMap_Togo\n",
       "2  0.205882    Copernicus_Togo\n",
       "3  0.634146  DigitalEarth_Togo\n",
       "4  0.707317           ESA_Togo\n",
       "5  0.107143          ESRI_Togo\n",
       "6  0.615385         GFSAD_Togo\n",
       "7  0.779661       Harvest_Togo"
      ]
     },
     "execution_count": 7,
     "metadata": {},
     "output_type": "execute_result"
    }
   ],
   "source": [
    "TOGO_F1_SCORES = []\n",
    "for binarymap in np.arange(len(TOGO_MATCHED)):\n",
    "    #TOGO_MATCHED[binarymap].remove_filler()\n",
    "    TOGO_F1_SCORES.append(TOGO_MATCHED[binarymap].get_f1())\n",
    "\n",
    "TOGO_F1_SCORES = pd.DataFrame(data=zip(TOGO_F1_SCORES, [x.split('/')[-1] for x in togo_labels]))\n",
    "TOGO_F1_SCORES"
   ]
  },
  {
   "cell_type": "markdown",
   "metadata": {},
   "source": [
    "KENYA DATA"
   ]
  },
  {
   "cell_type": "code",
   "execution_count": 1,
   "metadata": {},
   "outputs": [],
   "source": [
    "import cropvalidation \n",
    "import os\n",
    "import numpy as np\n",
    "import pandas as pd"
   ]
  },
  {
   "cell_type": "code",
   "execution_count": 2,
   "metadata": {},
   "outputs": [
    {
     "data": {
      "text/plain": [
       "CRS.from_epsg(32736)"
      ]
     },
     "execution_count": 2,
     "metadata": {},
     "output_type": "execute_result"
    }
   ],
   "source": [
    "kenya_data = []\n",
    "dir = 'data/KenyaBinaryMaps'\n",
    "for tif in os.listdir(dir):\n",
    "    f = os.path.join(dir, tif)\n",
    "    if f == \"data/KenyaBinaryMaps/Agreement_Kenya_Binary.tif\":\n",
    "        continue\n",
    "    kenya_data.append(cropvalidation.CropMask(f))\n",
    "\n",
    "kenya_labels = [kenya_data[x].getName().split(\"\\\\\")[-1][:-11] for x in np.arange(len(kenya_data))]\n",
    "\n",
    "KENYA_BINARY = dict(zip(kenya_labels, kenya_data))\n",
    "kenya_data[0].getProjection()\n"
   ]
  },
  {
   "cell_type": "code",
   "execution_count": 3,
   "metadata": {},
   "outputs": [],
   "source": [
    "KENYA_VALIDATION = cropvalidation.ValidationSet(path = 'data/HarvestData/kenya.csv', projection='epsg:4326')\n",
    "KENYA_VALIDATION.validation = KENYA_VALIDATION.validation[KENYA_VALIDATION.validation['subset'] == 'testing']\n",
    "KENYA_VALIDATION.validation = KENYA_VALIDATION.validation[['lat', 'lon', 'crop_probability']]\n",
    "\n",
    "KENYA_VALIDATION.validation.crop_probability = KENYA_VALIDATION.validation.crop_probability.astype(float)\n",
    "\n",
    "KENYA_VALIDATION.filter()\n",
    "KENYA_VALIDATION.reproject_validation(outProjection='epsg:32736')\n",
    "\n",
    "# KENYA_VALIDATION.validation = KENYA_VALIDATION.validation[KENYA_VALIDATION.validation.subset == 'testing']\n",
    "# KENYA_VALIDATION.validation = KENYA_VALIDATION.validation[['lat', 'lon', 'crop_probability']]\n",
    "# KENYA_VALIDATION.reproject_validation('epsg:32736')\n",
    "# KENYA_VALIDATION.validation\n",
    "\n",
    "# KENYA_VALIDATION.getData.to_csv(\"data\\HarvestData\\kenya_reprojected.csv\")\n",
    "# kenya_data = pd.read('data/HarvestData/kenya_reprojected.csv')\n",
    "# KENYA_VALIDATION = cropvalidation.ValidationSet(path = 'data/HarvestData/kenya_reprojected.csv', projection='epsg:32736')\n"
   ]
  },
  {
   "cell_type": "code",
   "execution_count": 4,
   "metadata": {},
   "outputs": [],
   "source": [
    "KENYA_MATCHED = []\n",
    "for binarymap in np.arange(len(kenya_data)):\n",
    "    KENYA_MATCHED.append(cropvalidation.MatchedSet(kenya_data[binarymap], KENYA_VALIDATION))"
   ]
  },
  {
   "cell_type": "code",
   "execution_count": 5,
   "metadata": {},
   "outputs": [
    {
     "name": "stdout",
     "output_type": "stream",
     "text": [
      "[0. 1.] [0. 1.]\n"
     ]
    }
   ],
   "source": [
    "a = KENYA_MATCHED[0].getData()\n",
    "a = a[((a.crop_probability == 1) | (a.crop_probability == 0)) & ((a.cropmask == 1) | (a.cropmask == 0))]\n",
    "print(a.crop_probability.unique(), a.cropmask.unique())"
   ]
  },
  {
   "cell_type": "markdown",
   "metadata": {},
   "source": []
  },
  {
   "cell_type": "code",
   "execution_count": 7,
   "metadata": {},
   "outputs": [
    {
     "data": {
      "text/html": [
       "<div>\n",
       "<style scoped>\n",
       "    .dataframe tbody tr th:only-of-type {\n",
       "        vertical-align: middle;\n",
       "    }\n",
       "\n",
       "    .dataframe tbody tr th {\n",
       "        vertical-align: top;\n",
       "    }\n",
       "\n",
       "    .dataframe thead th {\n",
       "        text-align: right;\n",
       "    }\n",
       "</style>\n",
       "<table border=\"1\" class=\"dataframe\">\n",
       "  <thead>\n",
       "    <tr style=\"text-align: right;\">\n",
       "      <th></th>\n",
       "      <th>0</th>\n",
       "      <th>1</th>\n",
       "    </tr>\n",
       "  </thead>\n",
       "  <tbody>\n",
       "    <tr>\n",
       "      <th>0</th>\n",
       "      <td>0.068966</td>\n",
       "      <td>Agreement_Kenya</td>\n",
       "    </tr>\n",
       "    <tr>\n",
       "      <th>1</th>\n",
       "      <td>0.963739</td>\n",
       "      <td>Asap_Kenya</td>\n",
       "    </tr>\n",
       "    <tr>\n",
       "      <th>2</th>\n",
       "      <td>0.965633</td>\n",
       "      <td>CombinedMap_Kenya</td>\n",
       "    </tr>\n",
       "    <tr>\n",
       "      <th>3</th>\n",
       "      <td>0.190193</td>\n",
       "      <td>Copernicus_Kenya</td>\n",
       "    </tr>\n",
       "    <tr>\n",
       "      <th>4</th>\n",
       "      <td>0.932575</td>\n",
       "      <td>DE_Kenya</td>\n",
       "    </tr>\n",
       "    <tr>\n",
       "      <th>5</th>\n",
       "      <td>0.305132</td>\n",
       "      <td>EsaWorldcover_Kenya</td>\n",
       "    </tr>\n",
       "    <tr>\n",
       "      <th>6</th>\n",
       "      <td>0.707724</td>\n",
       "      <td>ESRI_Kenya</td>\n",
       "    </tr>\n",
       "    <tr>\n",
       "      <th>7</th>\n",
       "      <td>0.973451</td>\n",
       "      <td>GFSAD_Kenya</td>\n",
       "    </tr>\n",
       "    <tr>\n",
       "      <th>8</th>\n",
       "      <td>0.967309</td>\n",
       "      <td>Harvest_Kenya</td>\n",
       "    </tr>\n",
       "  </tbody>\n",
       "</table>\n",
       "</div>"
      ],
      "text/plain": [
       "          0                    1\n",
       "0  0.068966      Agreement_Kenya\n",
       "1  0.963739           Asap_Kenya\n",
       "2  0.965633    CombinedMap_Kenya\n",
       "3  0.190193     Copernicus_Kenya\n",
       "4  0.932575             DE_Kenya\n",
       "5  0.305132  EsaWorldcover_Kenya\n",
       "6  0.707724           ESRI_Kenya\n",
       "7  0.973451          GFSAD_Kenya\n",
       "8  0.967309        Harvest_Kenya"
      ]
     },
     "execution_count": 7,
     "metadata": {},
     "output_type": "execute_result"
    }
   ],
   "source": [
    "KENYA_F1_SCORES = []\n",
    "for binarymap in np.arange(len(KENYA_MATCHED)):\n",
    "    KENYA_MATCHED[binarymap].remove_filler()\n",
    "    KENYA_F1_SCORES.append(KENYA_MATCHED[binarymap].get_f1())\n",
    "\n",
    "KENYA_F1_SCORES = pd.DataFrame(data=zip(KENYA_F1_SCORES, [x.split('/')[-1] for x in kenya_labels]))\n",
    "KENYA_F1_SCORES"
   ]
  },
  {
   "cell_type": "markdown",
   "metadata": {},
   "source": [
    "Scores to add\n",
    "- user?\n",
    "- cropland evaluation & non cropland evaluation"
   ]
  },
  {
   "cell_type": "markdown",
   "metadata": {},
   "source": []
  }
 ],
 "metadata": {
  "interpreter": {
   "hash": "62225c3c0f49fb74a5fd5f292b42dc4d4c6a964776233fc1d495a766b7264e91"
  },
  "kernelspec": {
   "display_name": "Python 3.8.0 64-bit ('CropHarvest': conda)",
   "language": "python",
   "name": "python3"
  },
  "language_info": {
   "codemirror_mode": {
    "name": "ipython",
    "version": 3
   },
   "file_extension": ".py",
   "mimetype": "text/x-python",
   "name": "python",
   "nbconvert_exporter": "python",
   "pygments_lexer": "ipython3",
   "version": "3.8.0"
  },
  "orig_nbformat": 4
 },
 "nbformat": 4,
 "nbformat_minor": 2
}
