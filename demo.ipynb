{
 "cells": [
  {
   "cell_type": "code",
   "execution_count": 16,
   "metadata": {},
   "outputs": [],
   "source": [
    "import cropvalidation \n",
    "import os\n",
    "import numpy as np"
   ]
  },
  {
   "cell_type": "markdown",
   "metadata": {},
   "source": [
    "### TOGO \n"
   ]
  },
  {
   "cell_type": "markdown",
   "metadata": {},
   "source": [
    "Load data"
   ]
  },
  {
   "cell_type": "markdown",
   "metadata": {},
   "source": [
    "load in togo data as cropmasks"
   ]
  },
  {
   "cell_type": "code",
   "execution_count": 17,
   "metadata": {},
   "outputs": [],
   "source": [
    "togo_data = []\n",
    "dir = 'data/TogoBinaryMaps'\n",
    "for tif in os.listdir(dir):\n",
    "    f = os.path.join(dir, tif)\n",
    "    if f == \"data/TogoBinaryMaps\\AgreementMap_Togo_Binary.tif\":\n",
    "\n",
    "        continue\n",
    "    togo_data.append(cropvalidation.CropMask(f))\n",
    "\n",
    "togo_labels = [togo_data[x].getName().split(\"\\\\\")[-1][:-11] for x in np.arange(len(togo_data))]\n",
    "\n",
    "TOGO_BINARY = dict(zip(togo_labels, togo_data))\n",
    "TOGO_BINARY.get('ASAP_TOGO')"
   ]
  },
  {
   "cell_type": "markdown",
   "metadata": {},
   "source": [
    "Matched Sets"
   ]
  },
  {
   "cell_type": "code",
   "execution_count": 18,
   "metadata": {},
   "outputs": [],
   "source": [
    "TOGO_VALIDATION = cropvalidation.ValidationSet(path = 'data/HarvestData/togo_reprojected.csv', projection='epsg:32631')\n",
    "TOGO_VALIDATION.validation = TOGO_VALIDATION.validation[['lat', 'lon', 'crop_probability']]\n",
    "\n",
    "TOGO_MATCHED = []\n",
    "for binarymap in np.arange(len(togo_data)):\n",
    "    TOGO_MATCHED.append(cropvalidation.MatchedSet(togo_data[binarymap], TOGO_VALIDATION))"
   ]
  },
  {
   "cell_type": "code",
   "execution_count": 19,
   "metadata": {},
   "outputs": [
    {
     "data": {
      "text/plain": [
       "[0.585551330798479,\n",
       " 0.641860465116279,\n",
       " 0.40229885057471265,\n",
       " 0.5622119815668203,\n",
       " 0.7079646017699115,\n",
       " 0.19444444444444445,\n",
       " 0.6218487394957983,\n",
       " 0.8294573643410852]"
      ]
     },
     "execution_count": 19,
     "metadata": {},
     "output_type": "execute_result"
    }
   ],
   "source": [
    "TOGO_F1_SCORES = []\n",
    "for binarymap in np.arange(len(TOGO_MATCHED)):\n",
    "    TOGO_MATCHED[binarymap].remove_filler()\n",
    "    TOGO_F1_SCORES.append(TOGO_MATCHED[binarymap].get_f1())\n",
    "\n",
    "TOGO_F1_SCORES"
   ]
  },
  {
   "cell_type": "markdown",
   "metadata": {},
   "source": [
    "KENYA DATA"
   ]
  },
  {
   "cell_type": "code",
   "execution_count": 20,
   "metadata": {},
   "outputs": [
    {
     "data": {
      "text/plain": [
       "array([['Asap_Kenya', 'CombinedMap_Kenya', 'Copernicus_Kenya',\n",
       "        'DE_Kenya', 'EsaWorldcover_Kenya', 'ESRI_Kenya', 'GFSAD_Kenya',\n",
       "        'Harvest_Kenya'],\n",
       "       [<cropvalidation.CropMask object at 0x0000018DEB6906A0>,\n",
       "        <cropvalidation.CropMask object at 0x0000018DEB6AA760>,\n",
       "        <cropvalidation.CropMask object at 0x0000018DEE7467F0>,\n",
       "        <cropvalidation.CropMask object at 0x0000018DEB696040>,\n",
       "        <cropvalidation.CropMask object at 0x0000018DEB690850>,\n",
       "        <cropvalidation.CropMask object at 0x0000018DEB690670>,\n",
       "        <cropvalidation.CropMask object at 0x0000018DEB690970>,\n",
       "        <cropvalidation.CropMask object at 0x0000018DEB690C70>]],\n",
       "      dtype=object)"
      ]
     },
     "execution_count": 20,
     "metadata": {},
     "output_type": "execute_result"
    }
   ],
   "source": [
    "kenya_data = []\n",
    "dir = 'data/KenyaBinaryMaps'\n",
    "for tif in os.listdir(dir):\n",
    "    f = os.path.join(dir, tif)\n",
    "    if f == \"data/KenyaBinaryMaps\\Agreement_Kenya_Binary.tif\":\n",
    "        continue\n",
    "    kenya_data.append(cropvalidation.CropMask(f))\n",
    "\n",
    "kenya_labels = [kenya_data[x].getName().split(\"\\\\\")[-1][:-11] for x in np.arange(len(kenya_data))]\n",
    "\n",
    "KENYA_BINARY = np.array((kenya_labels, togo_data))\n",
    "\n",
    "KENYA_BINARY"
   ]
  },
  {
   "cell_type": "code",
   "execution_count": 21,
   "metadata": {},
   "outputs": [
    {
     "data": {
      "text/plain": [
       "CRS.from_epsg(32736)"
      ]
     },
     "execution_count": 21,
     "metadata": {},
     "output_type": "execute_result"
    }
   ],
   "source": [
    "import rasterio as ras\n",
    "data = ras.open('data/KenyaBinaryMaps/Asap_Kenya_Binary.tif')\n",
    "data.crs"
   ]
  },
  {
   "cell_type": "code",
   "execution_count": 22,
   "metadata": {},
   "outputs": [],
   "source": [
    "KENYA_VALIDATION = cropvalidation.ValidationSet(path = 'data/HarvestData/kenya.csv', projection='epsg:4326')\n",
    "KENYA_VALIDATION.reproject_validation(outProjection='epsg:32736')"
   ]
  },
  {
   "cell_type": "code",
   "execution_count": 23,
   "metadata": {},
   "outputs": [],
   "source": [
    "KENYA_VALIDATION.validation = KENYA_VALIDATION.validation[['lat', 'lon', 'crop_probability']]"
   ]
  },
  {
   "cell_type": "code",
   "execution_count": 24,
   "metadata": {},
   "outputs": [],
   "source": [
    "KENYA_MATCHED = []\n",
    "for binarymap in np.arange(len(kenya_data)):\n",
    "    KENYA_MATCHED.append(cropvalidation.MatchedSet(kenya_data[binarymap], KENYA_VALIDATION))"
   ]
  },
  {
   "cell_type": "code",
   "execution_count": 25,
   "metadata": {},
   "outputs": [
    {
     "data": {
      "text/plain": [
       "[0.9485825684347332,\n",
       " 0.9542852260104248,\n",
       " 0.19145713420175706,\n",
       " 0.9237343852728468,\n",
       " 0.3357440890125174,\n",
       " 0.6999145664246049,\n",
       " 0.9562672736140465,\n",
       " 0.9624882508758438]"
      ]
     },
     "execution_count": 25,
     "metadata": {},
     "output_type": "execute_result"
    }
   ],
   "source": [
    "KENYA_F1_SCORES = []\n",
    "for binarymap in np.arange(len(KENYA_MATCHED)):\n",
    "    KENYA_MATCHED[binarymap].remove_filler()\n",
    "    KENYA_F1_SCORES.append(KENYA_MATCHED[binarymap].get_f1())\n",
    "\n",
    "KENYA_F1_SCORES"
   ]
  },
  {
   "cell_type": "markdown",
   "metadata": {},
   "source": [
    "Scores to add\n",
    "- user?\n",
    "- cropland evaluation & non cropland evaluation"
   ]
  }
 ],
 "metadata": {
  "interpreter": {
   "hash": "62225c3c0f49fb74a5fd5f292b42dc4d4c6a964776233fc1d495a766b7264e91"
  },
  "kernelspec": {
   "display_name": "Python 3.8.0 64-bit ('CropHarvest': conda)",
   "language": "python",
   "name": "python3"
  },
  "language_info": {
   "codemirror_mode": {
    "name": "ipython",
    "version": 3
   },
   "file_extension": ".py",
   "mimetype": "text/x-python",
   "name": "python",
   "nbconvert_exporter": "python",
   "pygments_lexer": "ipython3",
   "version": "3.8.0"
  },
  "orig_nbformat": 4
 },
 "nbformat": 4,
 "nbformat_minor": 2
}
